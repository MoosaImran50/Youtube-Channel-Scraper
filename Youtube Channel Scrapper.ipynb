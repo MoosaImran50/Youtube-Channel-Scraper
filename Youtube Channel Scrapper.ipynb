{
  "cells": [
    {
      "cell_type": "code",
      "execution_count": null,
      "id": "6661d2c6-dcf7-409a-b2a8-8817ccc24491",
      "metadata": {
        "id": "6661d2c6-dcf7-409a-b2a8-8817ccc24491",
        "colab": {
          "base_uri": "https://localhost:8080/"
        },
        "outputId": "9db8ba3a-79dc-4390-a3bb-297069871910"
      },
      "outputs": [
        {
          "output_type": "stream",
          "name": "stdout",
          "text": [
            "Collecting selenium\n",
            "  Downloading selenium-4.21.0-py3-none-any.whl (9.5 MB)\n",
            "\u001b[2K     \u001b[90m━━━━━━━━━━━━━━━━━━━━━━━━━━━━━━━━━━━━━━━━\u001b[0m \u001b[32m9.5/9.5 MB\u001b[0m \u001b[31m21.8 MB/s\u001b[0m eta \u001b[36m0:00:00\u001b[0m\n",
            "\u001b[?25hRequirement already satisfied: urllib3[socks]<3,>=1.26 in /usr/local/lib/python3.10/dist-packages (from selenium) (2.0.7)\n",
            "Collecting trio~=0.17 (from selenium)\n",
            "  Downloading trio-0.25.1-py3-none-any.whl (467 kB)\n",
            "\u001b[2K     \u001b[90m━━━━━━━━━━━━━━━━━━━━━━━━━━━━━━━━━━━━━━━━\u001b[0m \u001b[32m467.7/467.7 kB\u001b[0m \u001b[31m18.6 MB/s\u001b[0m eta \u001b[36m0:00:00\u001b[0m\n",
            "\u001b[?25hCollecting trio-websocket~=0.9 (from selenium)\n",
            "  Downloading trio_websocket-0.11.1-py3-none-any.whl (17 kB)\n",
            "Requirement already satisfied: certifi>=2021.10.8 in /usr/local/lib/python3.10/dist-packages (from selenium) (2024.6.2)\n",
            "Requirement already satisfied: typing_extensions>=4.9.0 in /usr/local/lib/python3.10/dist-packages (from selenium) (4.12.2)\n",
            "Requirement already satisfied: attrs>=23.2.0 in /usr/local/lib/python3.10/dist-packages (from trio~=0.17->selenium) (23.2.0)\n",
            "Requirement already satisfied: sortedcontainers in /usr/local/lib/python3.10/dist-packages (from trio~=0.17->selenium) (2.4.0)\n",
            "Requirement already satisfied: idna in /usr/local/lib/python3.10/dist-packages (from trio~=0.17->selenium) (3.7)\n",
            "Collecting outcome (from trio~=0.17->selenium)\n",
            "  Downloading outcome-1.3.0.post0-py2.py3-none-any.whl (10 kB)\n",
            "Requirement already satisfied: sniffio>=1.3.0 in /usr/local/lib/python3.10/dist-packages (from trio~=0.17->selenium) (1.3.1)\n",
            "Requirement already satisfied: exceptiongroup in /usr/local/lib/python3.10/dist-packages (from trio~=0.17->selenium) (1.2.1)\n",
            "Collecting wsproto>=0.14 (from trio-websocket~=0.9->selenium)\n",
            "  Downloading wsproto-1.2.0-py3-none-any.whl (24 kB)\n",
            "Requirement already satisfied: pysocks!=1.5.7,<2.0,>=1.5.6 in /usr/local/lib/python3.10/dist-packages (from urllib3[socks]<3,>=1.26->selenium) (1.7.1)\n",
            "Collecting h11<1,>=0.9.0 (from wsproto>=0.14->trio-websocket~=0.9->selenium)\n",
            "  Downloading h11-0.14.0-py3-none-any.whl (58 kB)\n",
            "\u001b[2K     \u001b[90m━━━━━━━━━━━━━━━━━━━━━━━━━━━━━━━━━━━━━━━━\u001b[0m \u001b[32m58.3/58.3 kB\u001b[0m \u001b[31m2.6 MB/s\u001b[0m eta \u001b[36m0:00:00\u001b[0m\n",
            "\u001b[?25hInstalling collected packages: outcome, h11, wsproto, trio, trio-websocket, selenium\n",
            "Successfully installed h11-0.14.0 outcome-1.3.0.post0 selenium-4.21.0 trio-0.25.1 trio-websocket-0.11.1 wsproto-1.2.0\n",
            "Collecting webdriver-manager\n",
            "  Downloading webdriver_manager-4.0.1-py2.py3-none-any.whl (27 kB)\n",
            "Requirement already satisfied: requests in /usr/local/lib/python3.10/dist-packages (from webdriver-manager) (2.31.0)\n",
            "Collecting python-dotenv (from webdriver-manager)\n",
            "  Downloading python_dotenv-1.0.1-py3-none-any.whl (19 kB)\n",
            "Requirement already satisfied: packaging in /usr/local/lib/python3.10/dist-packages (from webdriver-manager) (24.1)\n",
            "Requirement already satisfied: charset-normalizer<4,>=2 in /usr/local/lib/python3.10/dist-packages (from requests->webdriver-manager) (3.3.2)\n",
            "Requirement already satisfied: idna<4,>=2.5 in /usr/local/lib/python3.10/dist-packages (from requests->webdriver-manager) (3.7)\n",
            "Requirement already satisfied: urllib3<3,>=1.21.1 in /usr/local/lib/python3.10/dist-packages (from requests->webdriver-manager) (2.0.7)\n",
            "Requirement already satisfied: certifi>=2017.4.17 in /usr/local/lib/python3.10/dist-packages (from requests->webdriver-manager) (2024.6.2)\n",
            "Installing collected packages: python-dotenv, webdriver-manager\n",
            "Successfully installed python-dotenv-1.0.1 webdriver-manager-4.0.1\n",
            "Collecting google-colab-selenium\n",
            "  Downloading google_colab_selenium-1.0.13-py3-none-any.whl (8.1 kB)\n",
            "Requirement already satisfied: selenium in /usr/local/lib/python3.10/dist-packages (from google-colab-selenium) (4.21.0)\n",
            "Requirement already satisfied: urllib3[socks]<3,>=1.26 in /usr/local/lib/python3.10/dist-packages (from selenium->google-colab-selenium) (2.0.7)\n",
            "Requirement already satisfied: trio~=0.17 in /usr/local/lib/python3.10/dist-packages (from selenium->google-colab-selenium) (0.25.1)\n",
            "Requirement already satisfied: trio-websocket~=0.9 in /usr/local/lib/python3.10/dist-packages (from selenium->google-colab-selenium) (0.11.1)\n",
            "Requirement already satisfied: certifi>=2021.10.8 in /usr/local/lib/python3.10/dist-packages (from selenium->google-colab-selenium) (2024.6.2)\n",
            "Requirement already satisfied: typing_extensions>=4.9.0 in /usr/local/lib/python3.10/dist-packages (from selenium->google-colab-selenium) (4.12.2)\n",
            "Requirement already satisfied: attrs>=23.2.0 in /usr/local/lib/python3.10/dist-packages (from trio~=0.17->selenium->google-colab-selenium) (23.2.0)\n",
            "Requirement already satisfied: sortedcontainers in /usr/local/lib/python3.10/dist-packages (from trio~=0.17->selenium->google-colab-selenium) (2.4.0)\n",
            "Requirement already satisfied: idna in /usr/local/lib/python3.10/dist-packages (from trio~=0.17->selenium->google-colab-selenium) (3.7)\n",
            "Requirement already satisfied: outcome in /usr/local/lib/python3.10/dist-packages (from trio~=0.17->selenium->google-colab-selenium) (1.3.0.post0)\n",
            "Requirement already satisfied: sniffio>=1.3.0 in /usr/local/lib/python3.10/dist-packages (from trio~=0.17->selenium->google-colab-selenium) (1.3.1)\n",
            "Requirement already satisfied: exceptiongroup in /usr/local/lib/python3.10/dist-packages (from trio~=0.17->selenium->google-colab-selenium) (1.2.1)\n",
            "Requirement already satisfied: wsproto>=0.14 in /usr/local/lib/python3.10/dist-packages (from trio-websocket~=0.9->selenium->google-colab-selenium) (1.2.0)\n",
            "Requirement already satisfied: pysocks!=1.5.7,<2.0,>=1.5.6 in /usr/local/lib/python3.10/dist-packages (from urllib3[socks]<3,>=1.26->selenium->google-colab-selenium) (1.7.1)\n",
            "Requirement already satisfied: h11<1,>=0.9.0 in /usr/local/lib/python3.10/dist-packages (from wsproto>=0.14->trio-websocket~=0.9->selenium->google-colab-selenium) (0.14.0)\n",
            "Installing collected packages: google-colab-selenium\n",
            "Successfully installed google-colab-selenium-1.0.13\n",
            "Requirement already satisfied: google-colab-selenium[undetected] in /usr/local/lib/python3.10/dist-packages (1.0.13)\n",
            "Requirement already satisfied: selenium in /usr/local/lib/python3.10/dist-packages (from google-colab-selenium[undetected]) (4.21.0)\n",
            "Collecting undetected-chromedriver (from google-colab-selenium[undetected])\n",
            "  Downloading undetected-chromedriver-3.5.5.tar.gz (65 kB)\n",
            "\u001b[2K     \u001b[90m━━━━━━━━━━━━━━━━━━━━━━━━━━━━━━━━━━━━━━━━\u001b[0m \u001b[32m65.4/65.4 kB\u001b[0m \u001b[31m790.9 kB/s\u001b[0m eta \u001b[36m0:00:00\u001b[0m\n",
            "\u001b[?25h  Preparing metadata (setup.py) ... \u001b[?25l\u001b[?25hdone\n",
            "Requirement already satisfied: urllib3[socks]<3,>=1.26 in /usr/local/lib/python3.10/dist-packages (from selenium->google-colab-selenium[undetected]) (2.0.7)\n",
            "Requirement already satisfied: trio~=0.17 in /usr/local/lib/python3.10/dist-packages (from selenium->google-colab-selenium[undetected]) (0.25.1)\n",
            "Requirement already satisfied: trio-websocket~=0.9 in /usr/local/lib/python3.10/dist-packages (from selenium->google-colab-selenium[undetected]) (0.11.1)\n",
            "Requirement already satisfied: certifi>=2021.10.8 in /usr/local/lib/python3.10/dist-packages (from selenium->google-colab-selenium[undetected]) (2024.6.2)\n",
            "Requirement already satisfied: typing_extensions>=4.9.0 in /usr/local/lib/python3.10/dist-packages (from selenium->google-colab-selenium[undetected]) (4.12.2)\n",
            "Requirement already satisfied: requests in /usr/local/lib/python3.10/dist-packages (from undetected-chromedriver->google-colab-selenium[undetected]) (2.31.0)\n",
            "Collecting websockets (from undetected-chromedriver->google-colab-selenium[undetected])\n",
            "  Downloading websockets-12.0-cp310-cp310-manylinux_2_5_x86_64.manylinux1_x86_64.manylinux_2_17_x86_64.manylinux2014_x86_64.whl (130 kB)\n",
            "\u001b[2K     \u001b[90m━━━━━━━━━━━━━━━━━━━━━━━━━━━━━━━━━━━━━━━━\u001b[0m \u001b[32m130.2/130.2 kB\u001b[0m \u001b[31m2.3 MB/s\u001b[0m eta \u001b[36m0:00:00\u001b[0m\n",
            "\u001b[?25hRequirement already satisfied: attrs>=23.2.0 in /usr/local/lib/python3.10/dist-packages (from trio~=0.17->selenium->google-colab-selenium[undetected]) (23.2.0)\n",
            "Requirement already satisfied: sortedcontainers in /usr/local/lib/python3.10/dist-packages (from trio~=0.17->selenium->google-colab-selenium[undetected]) (2.4.0)\n",
            "Requirement already satisfied: idna in /usr/local/lib/python3.10/dist-packages (from trio~=0.17->selenium->google-colab-selenium[undetected]) (3.7)\n",
            "Requirement already satisfied: outcome in /usr/local/lib/python3.10/dist-packages (from trio~=0.17->selenium->google-colab-selenium[undetected]) (1.3.0.post0)\n",
            "Requirement already satisfied: sniffio>=1.3.0 in /usr/local/lib/python3.10/dist-packages (from trio~=0.17->selenium->google-colab-selenium[undetected]) (1.3.1)\n",
            "Requirement already satisfied: exceptiongroup in /usr/local/lib/python3.10/dist-packages (from trio~=0.17->selenium->google-colab-selenium[undetected]) (1.2.1)\n",
            "Requirement already satisfied: wsproto>=0.14 in /usr/local/lib/python3.10/dist-packages (from trio-websocket~=0.9->selenium->google-colab-selenium[undetected]) (1.2.0)\n",
            "Requirement already satisfied: pysocks!=1.5.7,<2.0,>=1.5.6 in /usr/local/lib/python3.10/dist-packages (from urllib3[socks]<3,>=1.26->selenium->google-colab-selenium[undetected]) (1.7.1)\n",
            "Requirement already satisfied: charset-normalizer<4,>=2 in /usr/local/lib/python3.10/dist-packages (from requests->undetected-chromedriver->google-colab-selenium[undetected]) (3.3.2)\n",
            "Requirement already satisfied: h11<1,>=0.9.0 in /usr/local/lib/python3.10/dist-packages (from wsproto>=0.14->trio-websocket~=0.9->selenium->google-colab-selenium[undetected]) (0.14.0)\n",
            "Building wheels for collected packages: undetected-chromedriver\n",
            "  Building wheel for undetected-chromedriver (setup.py) ... \u001b[?25l\u001b[?25hdone\n",
            "  Created wheel for undetected-chromedriver: filename=undetected_chromedriver-3.5.5-py3-none-any.whl size=47048 sha256=5d6102f463dbf4f5fe73455b0675d03db5b4ed5eab161d5753264ef22e521ebb\n",
            "  Stored in directory: /root/.cache/pip/wheels/cf/a1/db/e1275b6f7259aacd6b045f8bfcb1fcbc93827a3916ba55d5b7\n",
            "Successfully built undetected-chromedriver\n",
            "Installing collected packages: websockets, undetected-chromedriver\n",
            "Successfully installed undetected-chromedriver-3.5.5 websockets-12.0\n"
          ]
        }
      ],
      "source": [
        "# !pip install selenium\n",
        "# !pip install webdriver-manager\n",
        "from selenium import webdriver\n",
        "from selenium.webdriver.common.by import By\n",
        "from selenium.webdriver.chrome.service import Service\n",
        "from webdriver_manager.chrome import ChromeDriverManager\n",
        "from selenium.webdriver.common.keys import Keys\n",
        "from time import sleep\n",
        "\n",
        "# %pip install google-colab-selenium\n",
        "# %pip install google-colab-selenium[undetected]\n",
        "import google_colab_selenium as gs\n",
        "\n",
        "from IPython.display import Image, display\n",
        "import re\n",
        "\n",
        "from selenium.webdriver.chrome.options import Options\n",
        "\n",
        "# chrome_options = Options()\n",
        "# chrome_options.add_argument(\"--lang=en\")\n",
        "\n",
        "# driver = webdriver.Chrome(options=chrome_options)"
      ]
    },
    {
      "cell_type": "code",
      "source": [
        "def initialize_driver():\n",
        "    driver = gs.Chrome()\n",
        "    return driver"
      ],
      "metadata": {
        "id": "X2IwFAWy6QPX"
      },
      "id": "X2IwFAWy6QPX",
      "execution_count": null,
      "outputs": []
    },
    {
      "cell_type": "code",
      "source": [
        "def get_youtube_thumbnail(youtube_url):\n",
        "    video_id = None\n",
        "    regex = (\n",
        "        r'(?:https?://)?(?:www\\.)?'\n",
        "        '(?:youtube\\.com/(?:[^/]+/.+/|(?:v|e(?:mbed)?)|.*[?&]v=)|youtu\\.be/)'\n",
        "        '([^\"&?/ ]{11})'\n",
        "    )\n",
        "    match = re.match(regex, youtube_url)\n",
        "    if match:\n",
        "        video_id = match.group(1)\n",
        "\n",
        "    if video_id:\n",
        "        default_thumbnail = f\"https://img.youtube.com/vi/{video_id}/0.jpg\"\n",
        "        return default_thumbnail"
      ],
      "metadata": {
        "id": "CtmxAhRB5L5p"
      },
      "id": "CtmxAhRB5L5p",
      "execution_count": null,
      "outputs": []
    },
    {
      "cell_type": "code",
      "source": [
        "def get_video_data(driver, video_urls, number_of_videos=10):\n",
        "    for idx, url in enumerate(video_urls[:number_of_videos]):\n",
        "        driver.get(url)\n",
        "        print(\"Link: \",url)\n",
        "        sleep(5)\n",
        "        title = driver.find_element(By.CSS_SELECTOR, 'yt-formatted-string.style-scope.ytd-watch-metadata').text\n",
        "        print(\"Title: \",title)\n",
        "        views = driver.find_element(By.CSS_SELECTOR, '#info > span:nth-child(1)').text\n",
        "        print(\"Views: \",views)\n",
        "        time = driver.find_element(By.CSS_SELECTOR, '#info > span:nth-child(3)').text\n",
        "        print(\"Time: \",time)\n",
        "\n",
        "        print(\"Thumbnail: \")\n",
        "        thumbnail = get_youtube_thumbnail(url)\n",
        "        display(Image(url=thumbnail))\n",
        "\n",
        "        for i in range(5):\n",
        "            driver.execute_script(\"window.scrollBy(0, 700)\")\n",
        "            sleep(5)\n",
        "\n",
        "        sleep(10)\n",
        "        comments = driver.find_elements(By.CSS_SELECTOR, '#content-text span')\n",
        "        comments_list = [comment.text for comment in comments]\n",
        "\n",
        "        print(\"Comments:\")\n",
        "        for c in comments_list:\n",
        "          print(\"=>\", c)\n",
        "        print(\"#######################################################################\")"
      ],
      "metadata": {
        "id": "Ge4vLsbruPht"
      },
      "id": "Ge4vLsbruPht",
      "execution_count": null,
      "outputs": []
    },
    {
      "cell_type": "code",
      "source": [
        "driver = initialize_driver()\n",
        "driver.get(\"https://www.youtube.com/@ufc\")\n",
        "sleep(5)\n",
        "\n",
        "video_links = driver.find_elements(By.CSS_SELECTOR, \"#video-title\")\n",
        "video_urls = [link.get_attribute(\"href\") for link in video_links]\n",
        "get_video_data(driver, video_urls, 10)"
      ],
      "metadata": {
        "colab": {
          "base_uri": "https://localhost:8080/",
          "height": 1000
        },
        "id": "1kepCW7Q6G8a",
        "outputId": "123d11f4-f7ba-4cd1-96c1-f4f2e4fca0f2"
      },
      "id": "1kepCW7Q6G8a",
      "execution_count": null,
      "outputs": [
        {
          "output_type": "display_data",
          "data": {
            "text/plain": [
              "<IPython.core.display.HTML object>"
            ],
            "text/html": [
              "\n",
              "            <div class=\"spinner-container\">\n",
              "                <div class=\"spinner\" id=\"2880df74-51a9-40aa-84c4-72320d0b6d33-circle\"></div>\n",
              "                <div class=\"spinner-text\" id=\"2880df74-51a9-40aa-84c4-72320d0b6d33-text\">Initializing Chromedriver</div>\n",
              "            </div>\n",
              "            <style>\n",
              "                @keyframes spin {\n",
              "                    from { transform: rotate(0deg); }\n",
              "                    to { transform: rotate(360deg); }\n",
              "                }\n",
              "\n",
              "                .spinner-container {\n",
              "                    display: flex;\n",
              "                    align-items: center;\n",
              "                    margin-bottom: 3px;\n",
              "                }\n",
              "\n",
              "                .spinner {\n",
              "                    border: 3px solid rgba(0, 0, 0, 0.1);\n",
              "                    border-left-color: lightblue;\n",
              "                    border-radius: 50%;\n",
              "                    width: 12px;\n",
              "                    height: 12px;\n",
              "                    animation: spin 1s linear infinite;\n",
              "                }\n",
              "\n",
              "                .spinner-text {\n",
              "                    padding-left: 6px;\n",
              "                }\n",
              "            </style>\n",
              "        "
            ]
          },
          "metadata": {}
        },
        {
          "output_type": "display_data",
          "data": {
            "text/plain": [
              "<IPython.core.display.Javascript object>"
            ],
            "application/javascript": [
              "\n",
              "            const element = document.getElementById(\"2880df74-51a9-40aa-84c4-72320d0b6d33-circle\");\n",
              "            element.style.border = \"3px solid limegreen\";\n",
              "            element.style.animation = \"none\";\n",
              "\n",
              "            const text = document.getElementById(\"2880df74-51a9-40aa-84c4-72320d0b6d33-text\");\n",
              "            text.innerText = \"Initialized Chromedriver\";\n",
              "        "
            ]
          },
          "metadata": {}
        },
        {
          "output_type": "stream",
          "name": "stdout",
          "text": [
            "Link:  https://www.youtube.com/watch?v=DXNLW7ashP4\n",
            "Title:  UFC 302 in SLOW MOTION | Fight Motion\n",
            "Views:  204K views\n",
            "Time:  5 days ago\n",
            "Thumbnail: \n"
          ]
        },
        {
          "output_type": "display_data",
          "data": {
            "text/html": [
              "<img src=\"https://img.youtube.com/vi/DXNLW7ashP4/0.jpg\"/>"
            ],
            "text/plain": [
              "<IPython.core.display.Image object>"
            ]
          },
          "metadata": {}
        },
        {
          "output_type": "stream",
          "name": "stdout",
          "text": [
            "Comments:\n",
            "=> Not showing islams last takedown is criminal\n",
            "=> not showing the slow mo ankle pick was disappointing\n",
            "=> UFC slow motion editing guys are absolutely useless when it comes to getting the best shots.\n",
            "=> Title should be \"Makhachev vs Poirier in SLOW MOTION | Fight Motion\" they carried that abomination of a card and you barely showed anything\n",
            "=> \n",
            "=> 5:48 Dagestani brother protects Islam's head from slamming on the floor. Great brotherhood!\n",
            "=> 5:48\n",
            "=> Another Cheapass media team fired by Dana. Doesnt know shit abt highlights. Where are Islam take downs and ankle pick, Dustins elbow which cut open, Hollands armbar..?\n",
            "=> Usman jumping in the cage in slow-mo was phenomenal\n",
            "=> Not showing Islam’s ankle pick and submission is actually diabolical villain behavior\n",
            "=> Not showing Dustin's elbow is insane.\n",
            "=> Been waiting for this Makhachev surprised me again with his striking.\n",
            "=> At least they showed Usman jumping on Islam in slow motionand everyone stockpiling on him\n",
            "=> \n",
            "=> \n",
            "=> Dustin had to try against Khabib, Olivera and Islam for the LW belt. Brutal. \n",
            "\n",
            "Mcgregor had to beat Eddie Alvarez.... Crazy how things work out\n",
            "=> Islam is an absolute monster. \n",
            "Outstruck one of the best strikers in UFC history.\n",
            "\n",
            "That TD/ankle pick was absolutely filthy - one of the best submissions ever.\n",
            "=> It was that knee that broke Dustin’s nose. Damn\n",
            "=> the main event was awesome\n",
            "=> Not showing Islam's last sweep is criminal\n",
            "=> 5:35 Makhachev has a great chin now\n",
            "=> 5:35\n",
            "=> the striking from Islam and Porier \n",
            "=> \n",
            "=> \n",
            "=> \n",
            "=> Strickland put me to sleep\n",
            "But thank you Islam and Dustin for one of the best fights\n",
            "=> Love how islam mamedov reached below islam's head with his hand after usman took him down \n",
            "=> \n",
            "#######################################################################\n",
            "Link:  https://www.youtube.com/watch?v=MOKrw5RC_m0\n",
            "Title:  Nothing but respect after battle like that! 🫡 #ufc302\n",
            "Views:  1.4M views\n",
            "Time:  10 days ago\n",
            "Thumbnail: \n"
          ]
        },
        {
          "output_type": "display_data",
          "data": {
            "text/html": [
              "<img src=\"https://img.youtube.com/vi/MOKrw5RC_m0/0.jpg\"/>"
            ],
            "text/plain": [
              "<IPython.core.display.Image object>"
            ]
          },
          "metadata": {}
        },
        {
          "output_type": "stream",
          "name": "stdout",
          "text": [
            "Comments:\n",
            "=> Respect isn’t given it’s earned. Dustin earned everyone’s respect over a great career.\n",
            "=> “Get home safe to your family”….you're a classy legend, Dustin\n",
            "=> That’s what’s up. Real characters. Lots of respect for both of them\n",
            "=> Thats both winners. Modern gladiators and great gentlemen\n",
            "=> Call me a softy but this is actually beautiful.\n",
            "=> That’s proper men after battle showing true respect\n",
            "=> It's good to see that there is still honor among men\n",
            "=> Humble in victory, gracious in defeat.  This interaction speaks volumes of the character of these two men; treating each other with kindness, courtesy, good taste, and generosity of spirit.\n",
            "=> Hahaha Islam I think admires Dustin a lot and genuinely didn’t want to be Dustin’s last fight in UFC. Great sportsmanship either way, very refreshing to see!\n",
            "=> Men see, men are happy, men cry, men are happy again\n",
            "=> \"You beat me in all my face\" as he embraces Dustin is nothing but love and respect!!\n",
            "=> Much respect for both real men ️\n",
            "=> \n",
            "=> Dustin never lost anything from that fight\n",
            "=> Dustin is a legend \n",
            "=> \n",
            "=> Respect, class, professionalism. True warriors of the game.\n",
            "=> Cant stop watching this… again and again ! Respect for both\n",
            "=> Islam had so much love for DP he had to go in for 3 more hugs  I love this.\n",
            "=> \n",
            "=> that’s why i love the martial arts’ world\n",
            "=> It's always great to be best friends after you beat the shit out of each other\n",
            "=> This called adab-akhlak both of them, respectfull, honest no hypocrisy shown at all \n",
            "=> \n",
            "=> \n",
            "#######################################################################\n",
            "Link:  https://www.youtube.com/watch?v=fz25L-JdjZA\n",
            "Title:  Sean Strickland UFC 302 Backstage Interview\n",
            "Views:  279K views\n",
            "Time:  10 days ago\n",
            "Thumbnail: \n"
          ]
        },
        {
          "output_type": "display_data",
          "data": {
            "text/html": [
              "<img src=\"https://img.youtube.com/vi/fz25L-JdjZA/0.jpg\"/>"
            ],
            "text/plain": [
              "<IPython.core.display.Image object>"
            ]
          },
          "metadata": {}
        },
        {
          "output_type": "stream",
          "name": "stdout",
          "text": [
            "Comments:\n",
            "=> The judge who said that Costa won should be fired.\n",
            "=> Dricus would've ate the pizza directly from his coach's mouth like a baby bird.\n",
            "=> Desean \"Here is the thing guys\"Strickland\n",
            "=> I like how the video editor just gave up bleeping out Sean’s f-bombs half way thru\n",
            "=> Du Plessis vs Strickland 2 for the title shot \n",
            "=> \n",
            "=> \n",
            "=> I think Costa stayed away from Sean cause he didn't want his face to end up like dricus's face. Dude takes pride in his looks.\n",
            "=> Thumbnail: Sean gets fed by a big bear off screen\n",
            "=> Sean Strickland is my favorite personality in the UFC by far.\n",
            "=> The editor blipped the first 3 \"fucks\" and thought \"why even bother?\"\n",
            "=> Sean, the man.\n",
            "He deserves to sit out and wait for a title shot. He never Lost it from the beginning\n",
            "=> That thumbnail is insane work\n",
            "=> Sean sticklands a national treasure.\n",
            "=> nothing like a ufc fighter chowing on a pizza after a win \n",
            "=> \n",
            "=> they stood so close to each other\n",
            "=> Eric brings him pizza....so fuckin cool......here's the 'thing guys....love these guys!!!!\n",
            "=> Here's the thing about pizza  guys...\n",
            "=> \n",
            "=> The champ is here strickland\n",
            "=> Sean's the best.  You never walk away and wonder where he stands on any issue.\n",
            "=> \"No offense to any hefty women there's a shot for you\" \n",
            "=> \n",
            "=> Desean will beat whoever wins DDP and Izzy \n",
            "=> \n",
            "=> \n",
            "=> \n",
            "=> \n",
            "=> \n",
            "=> \n",
            "#######################################################################\n",
            "Link:  https://www.youtube.com/watch?v=EXIyq6QF4yI\n",
            "Title:  Islam Makhachev Post-Fight Press Conference | UFC 302\n",
            "Views:  395K views\n",
            "Time:  11 days ago\n",
            "Thumbnail: \n"
          ]
        },
        {
          "output_type": "display_data",
          "data": {
            "text/html": [
              "<img src=\"https://img.youtube.com/vi/EXIyq6QF4yI/0.jpg\"/>"
            ],
            "text/plain": [
              "<IPython.core.display.Image object>"
            ]
          },
          "metadata": {}
        },
        {
          "output_type": "stream",
          "name": "stdout",
          "text": [
            "Comments:\n",
            "=> next time u saying islam is a boring fighter remember he has 7 finish out of the last 8 fights and saved ufc 302\n",
            "=> He can receive a lot of hate, but he only  returns respect. People who hate Islam or Khabib, really have to solve other inner problems\n",
            "=> Islam is one the most complete fighter of all time\n",
            "=> He wasn't lying when he said he saved this card. I used to hate him, but now I love him. Hard to hate this man.\n",
            "=> 2:04 \"I think i save this card, because the others fight is boring and the whole arena almost sleep\" Lmao it's so true\n",
            "=> 2:04\n",
            "=> WARRIOR  V WARRIOR \n",
            "Islam and Dustin are 2 great fighters\n",
            "I respect them both\n",
            "=> Islam proves he can stand up and fight and grapple no doubt he was going to win\n",
            "=> 4:02 Islam is talking to the haters. He wants to entertain you guys. Don’t lie Makhachev gave us amazing jaw dropping fights.\n",
            "=> 4:02\n",
            "=> Islam is very straight to the point.\n",
            "Pure honesty. No drama.\n",
            "=> Dustin was at his best and Islam still dominated. Hes on a different level \n",
            "=> \n",
            "=> \n",
            "=> Congrats Islam from Uzbekistan! 🇺🇿\n",
            "=> \n",
            "=> Amazes me how people call Islam boring when he finishes fights and goes to war. But are perfectly ok with strickand pitter pattering to decisions everytime.\n",
            "=> Islam \"this is my dream\" Makachev\n",
            "=> Praising your opponents after defeating them , show the real champ inside you Islam\n",
            "=> \n",
            "=> A man of words.\n",
            "Such a flawless man and a  fighter. Giving respect to their opponents is the best of this team.\n",
            "=> Islam \"he tap and sleep\" Makhachev \n",
            "=> \n",
            "=> \n",
            "=> he didn't wear shades, respect to this guy for showing real truth in front of the cam\n",
            "=> Islam is the well rounded fighter man he is improving day by day champion go get the 170 belt\n",
            "=> Islam good. Before fight, he not praise opponents much. Only enough. After fight, he speak truth always. He feel toughness of fighter in ring. He give respect. He genuine man. No sense why people hating Islam.\n",
            "=> Congratulations champ, it was a great fight\n",
            "#######################################################################\n",
            "Link:  https://www.youtube.com/watch?v=CzzlD_1vIaQ\n",
            "Title:  Islam Makhachev UFC 302 Backstage Interview\n",
            "Views:  97K views\n",
            "Time:  10 days ago\n",
            "Thumbnail: \n"
          ]
        },
        {
          "output_type": "display_data",
          "data": {
            "text/html": [
              "<img src=\"https://img.youtube.com/vi/CzzlD_1vIaQ/0.jpg\"/>"
            ],
            "text/plain": [
              "<IPython.core.display.Image object>"
            ]
          },
          "metadata": {}
        },
        {
          "output_type": "stream",
          "name": "stdout",
          "text": [
            "Comments:\n",
            "=> He was booed all week and disrespected by the media. Went out there and delivered  . Islam is a different breed.\n",
            "=> Islam fights at 155, Haters: Fight your weight class weight Bully.\n",
            "Islam wants to move up, Haters: Defend more\n",
            "=> How can you hate Islam, man\n",
            "=> ISLAM and KHABIB both respected DUSTIN post fight..and called him a legend of the sport which he is.. Respectful HUMBLE..AND SKILLED warriors all 3 of them.\n",
            "=> Islam won the stand up as well\n",
            "=> Islam IS that dude. Got boo’d by everyone at the lead up and event and was completely unphased. Went in there and faced a much more prepared Dustin since the Khabib fight and dug deep in the 5th and went to higher levels. That ankle swivel takedown and subsequent transition to the D’Arce was a thing of beauty. To me an Islam that faces some adversity and still finishing anyway is a much more dangerous fighter moving forward.\n",
            "=> Islam, Dustin and Kevin saved this card.  All three of them should get a fat bonus for actually doing ANYTHING\n",
            "=> With how he was SO respectful to Dustin man Islam just grows and grows on me everyday\n",
            "=> Islam’s boxing was the key to victory I believe\n",
            "=> Islam one of the best mma fighter all the time\n",
            "=> She did a great job interviewing. More of her please.\n",
            "=> Islam is one of the goats. Everyone must embrace Islam at this point.\n",
            "=> This guy is the definition of well rounded now, I think you'd have to  be an extreme specialist to beat this guy, and even then it would be by chance at this point.\n",
            "=> Alhamdulillah once again \n",
            "=> \n",
            "=> \n",
            "=> Islam has a crazy level of confidence man. and his action proves his confidence. Respect\n",
            "=> \n",
            "=> She looks like an honourable woman. I like her attitude.\n",
            "=> She can’t look at him in the eyes , she knows she is talking with a respectful man .\n",
            "=> Nobody can say anything against the Elite Skills of Islam anymore !!!\n",
            "=> I LOVE ISLAM FROM AFGHANISTAN 🇦🇫\n",
            "=> \n",
            "=> How anyone hates on this guy is nuts, he is putting up fight of the year contender fights, dog fights with grappling and submission attempts, dropping ppl on the standup, getting both early finishes and going 5 rounds back to back, amazing fight, props to dustin too, he had some big moments\n",
            "#######################################################################\n",
            "Link:  https://www.youtube.com/watch?v=JOFulKbz1rM\n",
            "Title:  Dustin Poirier Post-Fight Press Conference | UFC 302\n",
            "Views:  481K views\n",
            "Time:  11 days ago\n",
            "Thumbnail: \n"
          ]
        },
        {
          "output_type": "display_data",
          "data": {
            "text/html": [
              "<img src=\"https://img.youtube.com/vi/JOFulKbz1rM/0.jpg\"/>"
            ],
            "text/plain": [
              "<IPython.core.display.Image object>"
            ]
          },
          "metadata": {}
        },
        {
          "output_type": "stream",
          "name": "stdout",
          "text": [
            "Comments:\n",
            "=> The ability to articulate himself with class while his heart breaks for the third time is unreal. Dustin is the epitome of everything this sports should be\n",
            "=> The real' '\n",
            "=> \n",
            "=> UFC should hire Dustin Poirier to have a job there like daniel cormier\n",
            "=> Dustin, as a selfish fan: you don't owe us more than you already gave us! As a grateful fan: you don't owe us more than you give us! Thankyou for 5, 10, 15 years of legendary fights!\n",
            "=> 2 absolute dogs! What a warrior in Dustin and what a champion in Islam\n",
            "=> Defeated 4 champions.....the uncrowned king\n",
            "=> Dustin gave everything in that fight, and gave Islam a lot of trouble too. A true legend of this sport \n",
            "=> \n",
            "=> We love you Dustin, keep your head up\n",
            "=> Dustin did a lot better than I thought he would. He's clearly improved. He's just been unlucky to always fight a grappler every time he had a title fight (excluding the interim fight with Max). If he wants to continue he should try for the BMF belt. Max would definitely want to rematch him and if Dustin won he can retire with a belt.\n",
            "=> 11:08 - Just take the damn hot sauce. He offered them to everyone. You don't have to drink it in front of him. Tough crowd!\n",
            "=> 11:08\n",
            "=> ABSOLUTE RESPECT FOR DUSTIN WHAT A GUY\n",
            "=> He’s so respected that he didn’t even have to worry about thousands of fans surrounding his kid, wife, and mother everyone was too busy cheering him even tho he lost. What a career\n",
            "=> FUCKING RESPECT FROM GEORGIA 🇬🇪🇬🇪🇬🇪\n",
            "=> Dustin wears it all on his sleeve. Gotta give him respect for that.\n",
            "=> He will be back. They always say they are going to retire but a real fighter loves to fight and can’t just walk away that easily.\n",
            "=> Dustin will forever be known as one of the greatest fighters this world has ever seen.\n",
            "=> F**k gold, the man's a diamond \n",
            "=> \n",
            "=> \n",
            "=> You don’t need the belt your always a champ\n",
            "=> Hang it up bro, nothing more to prove and have one of the greatest legacies in the game. Huge fan over the last decade and we all wanna see you go out on top \n",
            "=> \n",
            "=> Damn. He’s always been my favorite fighter\n",
            "#######################################################################\n",
            "Link:  https://www.youtube.com/watch?v=y5_twJnRkB4\n",
            "Title:  Did you hear that body kick?????? 😳\n",
            "Views:  323K views\n",
            "Time:  3 weeks ago\n",
            "Thumbnail: \n"
          ]
        },
        {
          "output_type": "display_data",
          "data": {
            "text/html": [
              "<img src=\"https://img.youtube.com/vi/y5_twJnRkB4/0.jpg\"/>"
            ],
            "text/plain": [
              "<IPython.core.display.Image object>"
            ]
          },
          "metadata": {}
        },
        {
          "output_type": "stream",
          "name": "stdout",
          "text": [
            "Comments:\n",
            "=> Still one of the best kickers in the game\n",
            "=> When that kick landed, all the sweat left his body.\n",
            "=> The pain tolerance is insane. A normal person would collapse and start crying \n",
            "=> \n",
            "=> Barboza's gas tank and grappling are his biggest issues. He's as pure as mma strikers come.\n",
            "=> Imagine if Barboza fought Yair…That would’ve been an instant classic.\n",
            "=> He ate that shit wtf\n",
            "=> Guy took the kick well and seemed pissed off about it then hurt.\n",
            "=> i think this fight is proof that time has finally caught up with barbosa\n",
            "=> Imagine taking a body kick from The Edson Barboza, eating it, and locking tf in. Lerone Murphy is truly built different.\n",
            "=> Barbozas problem has always been his ability to counter box effectively (edited to change defintely to effectively typo lol)\n",
            "=> Kudos to anyone that can take a kick like that.\n",
            "=> Man ate that insane kick and was like, time to walk forward. Murphy is a dog!!!\n",
            "=> Lmao, when Edson kicks and the other guy doesn't react, it's as if Edson got hit with it\n",
            "=> Bro look at barbozas physique I still can’t believe gaethe slept him with one shot\n",
            "=> I learned that is impressive that Khabib was eating those kicks all night and kept pressuring forward and punching barbosa in the face .\n",
            "=> The spinning back kick was even worse and took it like it was nothing.\n",
            "=> Like a gunshot\n",
            "=> Bro Murphy dominated that fight AND STILL looked beat up and was limping around everywhere!\n",
            "=> He ate that though \n",
            "=> \n",
            "=> That sound is IMMACULATE\n",
            "#######################################################################\n",
            "Link:  https://www.youtube.com/watch?v=tDQRjByxnt0\n",
            "Title:  Khaos Williams Octagon Interview | UFC Vegas 92\n",
            "Views:  21K views\n",
            "Time:  3 weeks ago\n",
            "Thumbnail: \n"
          ]
        },
        {
          "output_type": "display_data",
          "data": {
            "text/html": [
              "<img src=\"https://img.youtube.com/vi/tDQRjByxnt0/0.jpg\"/>"
            ],
            "text/plain": [
              "<IPython.core.display.Image object>"
            ]
          },
          "metadata": {}
        },
        {
          "output_type": "stream",
          "name": "stdout",
          "text": [
            "Comments:\n",
            "=> I think a scrap with Bryan Battle makes sense\n",
            "=> It’s not personal, it’s just punishment\n",
            "=> They use to show the knockout replays!!! We can’t see highlights anymore??\n",
            "=> Khaos can definitely get ranked after a win against a top 15 fighter like Luque or Magny.\n",
            "=> Khaos vs Buckley.\n",
            "=> never underestimate heavy hitters. on any given day they can ko ANYONE\n",
            "=> Detroit!!!!\n",
            "=> Whose granny is that ? She needs her meds\n",
            "=> Was on Harris but damn Khaos with another vicious KO\n",
            "=> Michigan is getting stronger \n",
            "=> \n",
            "=> Good for Kaos.\n",
            "Solid job. Hope he fights soon.\n",
            "=> That right hand can stagger your ancestors. Kaos is legit\n",
            "\n",
            "🇺🇸, God bless\n",
            "=> Been a fan of him for a while, he has some serious power, he touches your chin and you are in trouble type power.\n",
            "=> Congratulations people's champ!!!!!!! \n",
            "=> \n",
            "=> \n",
            "=> Neil Magny would be a good match right after this performance\n",
            "=> Khaos bringing the chaos again 🇺🇲\n",
            "=> \n",
            "=> \n",
            "=> Can we please get my homie in the game !\n",
            "=> yo who tf is this guy & why is he not getting ranked fighters???\n",
            "=> \n",
            "=> Dis brotha is forill\n",
            "=> Lame didn’t show any highlights. Typical ufc edit.\n",
            "#######################################################################\n",
            "Link:  https://www.youtube.com/watch?v=suvznaAUwmk\n",
            "Title:  Khaos Williams wants ALLLLLLLL the smoke 😤😤😤 #UFCVegas92\n",
            "Views:  85K views\n",
            "Time:  3 weeks ago\n",
            "Thumbnail: \n"
          ]
        },
        {
          "output_type": "display_data",
          "data": {
            "text/html": [
              "<img src=\"https://img.youtube.com/vi/suvznaAUwmk/0.jpg\"/>"
            ],
            "text/plain": [
              "<IPython.core.display.Image object>"
            ]
          },
          "metadata": {}
        },
        {
          "output_type": "stream",
          "name": "stdout",
          "text": [
            "Comments:\n",
            "=> These bots are out of control. Anyways, that overhand right from Khaos was clean and powerful!\n",
            "=> I like the part where they showed the knockout\n",
            "=> Dude has power but needs to clean up his defense a lil bit. I don't know how good his ground game is either. He doesn't fight enough. Main event starting now!\n",
            "=> He just wants someone to play with him \n",
            "=> \n",
            "=> Thatll all come to a halt. He'll get ktfo\n",
            "=> Calm down. You didn't win a title.\n",
            "=> UFC thinks we want to see post fight celebrations I guess\n",
            "=> Anyone else wondering where the bots at?\n",
            "=> The bots wildin bruh\n",
            "=> \n",
            "=> \n",
            "=> \n",
            "=> Who was playing with him??\n",
            "=> He’s been oppressed \n",
            "=> \n",
            "=> The Navy's not a job ... its an adventure \n",
            "=> \n",
            "=> It's literally a sport \n",
            "=> \n",
            "=> \n",
            "=> The bots\n",
            "=> \n",
            "=> \n",
            "=> Sucks dude just got popped for peds..\n",
            "=> ain't no game bruh\n",
            "=> How bout a hand of UNO? Maybe checkers is your cup of tea?\n",
            "=> AIN'T NO GAME BRUH!\n",
            "=> He's a scary individual\n",
            "=> A celebration like this is pathetic and stupid!\n",
            "#######################################################################\n",
            "Link:  https://www.youtube.com/watch?v=fERuMGE87HA\n",
            "Title:  Lerone Murphy Octagon Interview | UFC Vegas 92\n",
            "Views:  35K views\n",
            "Time:  3 weeks ago\n",
            "Thumbnail: \n"
          ]
        },
        {
          "output_type": "display_data",
          "data": {
            "text/html": [
              "<img src=\"https://img.youtube.com/vi/fERuMGE87HA/0.jpg\"/>"
            ],
            "text/plain": [
              "<IPython.core.display.Image object>"
            ]
          },
          "metadata": {}
        },
        {
          "output_type": "stream",
          "name": "stdout",
          "text": [
            "Comments:\n",
            "=> What a performance! Straight domination! Didn’t see this comin\n",
            "=> Barboza's spinning body kick in R4 was insane. It was fast, accurate, and loud as fk, absolutely no telegraph. It's amazing he did that being exhausted and beaten up.\n",
            "=> That up kick in the first round almost put Murphy out. Barboza has a chin. Great fight, can’t wait to see more of Murphy. 󠁧󠁢󠁥󠁮󠁧󠁿\n",
            "=> \n",
            "=> Lerones distance management was impressive, he was able to hit Edson while also staying out of range from even initiating a clinch\n",
            "=> Barboza still one of the cleanest when it comes to striking\n",
            "=> Sucks to see Edson go out like this,but congrats to Murphy.\n",
            "=> Big fan of Lerone Murphy he is a problem in the division, he has been shot 3 times and run over not long ago. Already has a great story!.\n",
            "=> Well this is why Lerone Murphy is still undefeated. Though it pains me to see Edson look like this now.\n",
            "=> Sad to see barboza lose\n",
            "=> A genuine tough guy that has made it the hard way.\n",
            "Good luck to him,he looks like he has a full MMA skillset to keep climbing the ranks.\n",
            "=> Imagine if that up kick landed 1 minute earlier ..\n",
            "=> Let's go Lerone!\n",
            "=> Dig the style and strategy \n",
            "=> \n",
            "=> Lerone \"Chuck Liddell\" Murphy\n",
            "=> \"Iceman\" has been taken lad. Good fight \n",
            "=> \n",
            "=> \n",
            "=> \n",
            "=> I'm mad at Barboza's corner. They should have stopped the  fight two hundred shots to the head is insane. I thought he was gonna retire last night. But they didn't give him a chance to talk. He probably was rushed to the hospital. Murphy is a beast though he's coming for titles\n",
            "=> This is what happens when you over look who’s in front of you and start calling out the bmf!\n",
            "=> Barboza needs to retire\n",
            "=> MANCHESTER LALALA let's go Lerone!\n",
            "#######################################################################\n"
          ]
        }
      ]
    }
  ],
  "metadata": {
    "kernelspec": {
      "display_name": "Python 3 (ipykernel)",
      "language": "python",
      "name": "python3"
    },
    "language_info": {
      "codemirror_mode": {
        "name": "ipython",
        "version": 3
      },
      "file_extension": ".py",
      "mimetype": "text/x-python",
      "name": "python",
      "nbconvert_exporter": "python",
      "pygments_lexer": "ipython3",
      "version": "3.12.3"
    },
    "colab": {
      "provenance": []
    }
  },
  "nbformat": 4,
  "nbformat_minor": 5
}